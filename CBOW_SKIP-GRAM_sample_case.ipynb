{
 "cells": [
  {
   "cell_type": "code",
   "execution_count": 1,
   "id": "e0edb8d6",
   "metadata": {},
   "outputs": [],
   "source": [
    "from gensim.models import KeyedVectors\n",
    "from gensim.downloader import load"
   ]
  },
  {
   "cell_type": "code",
   "execution_count": 2,
   "id": "d7ad40ef",
   "metadata": {},
   "outputs": [],
   "source": [
    "model = load('glove-wiki-gigaword-100')  "
   ]
  },
  {
   "cell_type": "code",
   "execution_count": 3,
   "id": "e408b6dc",
   "metadata": {},
   "outputs": [
    {
     "name": "stdout",
     "output_type": "stream",
     "text": [
      "Top 5 words similar to 'nephew' (Skip-Gram-style):\n",
      "cousin: 0.9094\n",
      "grandson: 0.8877\n",
      "brother: 0.8869\n",
      "son: 0.8856\n",
      "uncle: 0.8415\n"
     ]
    }
   ],
   "source": [
    "# In Skip-Gram you give a word and get similar context words\n",
    "word = 'nephew'\n",
    "print(f\"Top 5 words similar to '{word}' (Skip-Gram-style):\")\n",
    "similar_words = model.most_similar(word, topn=5)\n",
    "for w, score in similar_words:\n",
    "    print(f\"{w}: {score:.4f}\")\n"
   ]
  },
  {
   "cell_type": "code",
   "execution_count": 13,
   "id": "1a920a8a",
   "metadata": {},
   "outputs": [
    {
     "name": "stdout",
     "output_type": "stream",
     "text": [
      "\n",
      "Top 5 words similar to context ['room', 'disk', 'bed', 'chair'] (CBOW-style):\n",
      "room: 0.8723\n",
      "bed: 0.8093\n",
      "door: 0.7710\n",
      "floor: 0.7673\n",
      "sitting: 0.7489\n"
     ]
    }
   ],
   "source": [
    "# In CBOW you provide context words and the model predicts the center word\n",
    "context_words = ['room','disk', 'bed', 'chair']\n",
    "print(f\"\\nTop 5 words similar to context {context_words} (CBOW-style):\")\n",
    "cbow_vector = sum([model[word] for word in context_words]) / len(context_words)\n",
    "similar_center_words = model.similar_by_vector(cbow_vector, topn=5)\n",
    "for w, score in similar_center_words:\n",
    "    print(f\"{w}: {score:.4f}\")"
   ]
  },
  {
   "cell_type": "code",
   "execution_count": null,
   "id": "22fe6c6c",
   "metadata": {},
   "outputs": [],
   "source": []
  }
 ],
 "metadata": {
  "kernelspec": {
   "display_name": "deep_gpu_env",
   "language": "python",
   "name": "python3"
  },
  "language_info": {
   "codemirror_mode": {
    "name": "ipython",
    "version": 3
   },
   "file_extension": ".py",
   "mimetype": "text/x-python",
   "name": "python",
   "nbconvert_exporter": "python",
   "pygments_lexer": "ipython3",
   "version": "3.9.21"
  }
 },
 "nbformat": 4,
 "nbformat_minor": 5
}
