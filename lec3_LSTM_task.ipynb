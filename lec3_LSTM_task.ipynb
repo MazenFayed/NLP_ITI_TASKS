{
 "cells": [
  {
   "cell_type": "markdown",
   "id": "9fa57d4c",
   "metadata": {},
   "source": [
    "# RNN  "
   ]
  },
  {
   "cell_type": "code",
   "execution_count": 1,
   "id": "0aa69252",
   "metadata": {},
   "outputs": [
    {
     "name": "stderr",
     "output_type": "stream",
     "text": [
      "C:\\Users\\mazen\\AppData\\Local\\Temp\\ipykernel_10100\\2461584111.py:9: TqdmWarning: IProgress not found. Please update jupyter and ipywidgets. See https://ipywidgets.readthedocs.io/en/stable/user_install.html\n",
      "  from tqdm.autonotebook import tqdm\n"
     ]
    }
   ],
   "source": [
    "import torch\n",
    "import torch.nn as nn\n",
    "import torch.nn.functional as F\n",
    "import torchvision \n",
    "from torchvision import transforms\n",
    "\n",
    "from torch.utils.data import Dataset, DataLoader\n",
    "\n",
    "from tqdm.autonotebook import tqdm\n",
    "\n",
    "import numpy as np\n",
    "import seaborn as sns\n",
    "import matplotlib.pyplot as plt\n",
    "from matplotlib.pyplot import imshow\n",
    "import pandas as pd\n",
    "from sklearn.metrics import accuracy_score\n",
    "import time\n",
    "\n",
    "import torch.optim as optim\n",
    "from torch.utils.data import DataLoader, TensorDataset"
   ]
  },
  {
   "cell_type": "code",
   "execution_count": 2,
   "id": "cc41d9bf",
   "metadata": {},
   "outputs": [],
   "source": [
    "D = 28*28\n",
    "n = 256\n",
    "C = 1\n",
    "\n",
    "classes = 10\n",
    "\n",
    "model_regular = nn.Sequential(\n",
    "    nn.Flatten(), \n",
    "    nn.Linear(D, n), \n",
    "    nn.Tanh(), \n",
    "    nn.Linear(n, n),\n",
    "    nn.Tanh(),\n",
    "    nn.Linear(n, n), \n",
    "    nn.Tanh(), \n",
    "    nn.Linear(n, classes), \n",
    ")"
   ]
  },
  {
   "cell_type": "code",
   "execution_count": 3,
   "id": "a245bba3",
   "metadata": {},
   "outputs": [],
   "source": [
    "h_2 = nn.Linear(n, n)\n",
    "\n",
    "model_shared = nn.Sequential(\n",
    "    nn.Flatten(),\n",
    "    nn.Linear(D, n), \n",
    "    nn.Tanh(), h_2,\n",
    "    nn.Tanh(), h_2,\n",
    "    nn.Tanh(),\n",
    "    nn.Linear(n, classes),\n",
    ")"
   ]
  },
  {
   "cell_type": "markdown",
   "id": "9e66de7e",
   "metadata": {},
   "source": [
    "# Lets build an RNN network "
   ]
  },
  {
   "cell_type": "code",
   "execution_count": 6,
   "id": "28d2cf3e",
   "metadata": {},
   "outputs": [],
   "source": [
    "zip_file_url = \"https://download.pytorch.org/tutorial/data.zip\"\n",
    "\n",
    "import requests, zipfile, io\n",
    "r = requests.get(zip_file_url)\n",
    "z = zipfile.ZipFile(io.BytesIO(r.content))\n",
    "z.extractall()"
   ]
  },
  {
   "cell_type": "code",
   "execution_count": 7,
   "id": "3a517d0f",
   "metadata": {},
   "outputs": [
    {
     "name": "stdout",
     "output_type": "stream",
     "text": [
      "Arabic :  2000\n",
      "Chinese :  268\n",
      "Czech :  519\n",
      "Dutch :  297\n",
      "English :  3668\n",
      "French :  277\n",
      "German :  724\n",
      "Greek :  203\n",
      "Irish :  232\n",
      "Italian :  709\n",
      "Japanese :  991\n",
      "Korean :  94\n",
      "Polish :  139\n",
      "Portuguese :  74\n",
      "Russian :  9408\n",
      "Scottish :  100\n",
      "Spanish :  298\n",
      "Vietnamese :  73\n"
     ]
    }
   ],
   "source": [
    "namge_language_data = {}\n",
    "\n",
    "#We will use some code to remove UNICODE tokens to make life easy for us processing wise\n",
    "#e.g., convert something like \"Ślusàrski\" to Slusarski\n",
    "import unicodedata\n",
    "import string\n",
    "\n",
    "all_letters = string.ascii_letters + \" .,;'\"\n",
    "n_letters = len(all_letters)\n",
    "alphabet = {}\n",
    "for i in range(n_letters):\n",
    "    alphabet[all_letters[i]] = i\n",
    "    \n",
    "# Turn a Unicode string to plain ASCII, thanks to https://stackoverflow.com/a/518232/2809427\n",
    "def unicodeToAscii(s):\n",
    "    return ''.join(\n",
    "        c for c in unicodedata.normalize('NFD', s)\n",
    "        if unicodedata.category(c) != 'Mn'\n",
    "        and c in all_letters\n",
    "    )\n",
    "\n",
    "#Loop through every language, open the zip file entry, and read all the lines from the text file. \n",
    "for zip_path in z.namelist():\n",
    "    if \"data/names/\" in zip_path and zip_path.endswith(\".txt\"):\n",
    "        lang = zip_path[len(\"data/names/\"):-len(\".txt\")]\n",
    "        with z.open(zip_path) as myfile:\n",
    "            lang_names = [unicodeToAscii(line).lower() for line in str(myfile.read(), encoding='utf-8').strip().split(\"\\n\")]\n",
    "            namge_language_data[lang] = lang_names\n",
    "        print(lang, \": \", len(lang_names)) #Print out the name of each language too. \n"
   ]
  },
  {
   "cell_type": "code",
   "execution_count": 8,
   "id": "cca327b6",
   "metadata": {},
   "outputs": [
    {
     "data": {
      "text/plain": [
       "dict_keys(['Arabic', 'Chinese', 'Czech', 'Dutch', 'English', 'French', 'German', 'Greek', 'Irish', 'Italian', 'Japanese', 'Korean', 'Polish', 'Portuguese', 'Russian', 'Scottish', 'Spanish', 'Vietnamese'])"
      ]
     },
     "execution_count": 8,
     "metadata": {},
     "output_type": "execute_result"
    }
   ],
   "source": [
    "namge_language_data.keys()"
   ]
  },
  {
   "cell_type": "code",
   "execution_count": 9,
   "id": "819596d3",
   "metadata": {},
   "outputs": [
    {
     "name": "stdout",
     "output_type": "stream",
     "text": [
      "First 10 Arabic names in the dataset:\n",
      "1. khoury\n",
      "2. nahas\n",
      "3. daher\n",
      "4. gerges\n",
      "5. nazari\n",
      "6. maalouf\n",
      "7. gerges\n",
      "8. naifeh\n",
      "9. guirguis\n",
      "10. baba\n"
     ]
    }
   ],
   "source": [
    "# Show the first 10 Arabic names in the dataset\n",
    "print(\"First 10 Arabic names in the dataset:\")\n",
    "for i, name in enumerate(namge_language_data[\"Arabic\"][:10], 1):\n",
    "    print(f\"{i}. {name}\")"
   ]
  },
  {
   "cell_type": "code",
   "execution_count": 10,
   "id": "69ca666b",
   "metadata": {},
   "outputs": [],
   "source": [
    "class LanguageNameDataset(Dataset):\n",
    "    '''\n",
    "    self.label_names becomes ['English', 'Spanish', 'Japanese']\n",
    "    self.data becomes ['Smith', 'Johnson', 'Williams', 'Garcia', 'Rodriguez', 'Lopez', 'Tanaka', 'Suzuki', 'Sato']\n",
    "    self.labels becomes [0, 0, 0, 1, 1, 1, 2, 2, 2] (0 for English, 1 for Spanish, 2 for Japanese)\n",
    "\n",
    "    Now, let's see what happens when we access a specific item, for example dataset[4]:\n",
    "\n",
    "    The __getitem__ method is called with idx=4\n",
    "    It retrieves name = self.data[4] which is 'Rodriguez'\n",
    "    It retrieves label = self.labels[4] which is 1 (Spanish)\n",
    "    It calls self.string2InputVec('Rodriguez') which does the following:\n",
    "\n",
    "    Creates a tensor of zeros with length 9 (number of characters in \"Rodriguez\")\n",
    "    For each character, it replaces the zeros with the corresponding integer from the vocabulary:\n",
    "\n",
    "    'R' → 44\n",
    "    'o' → 15\n",
    "    'd' → 4\n",
    "    'r' → 18\n",
    "    'i' → 9\n",
    "    'g' → 7\n",
    "    'u' → 21\n",
    "    'e' → 5\n",
    "    'z' → 26\n",
    "\n",
    "\n",
    "    This creates the tensor: tensor([44, 15, 4, 18, 9, 7, 21, 5, 26])\n",
    "\n",
    "\n",
    "    It converts the label 1 to a tensor: tensor([1])\n",
    "    It returns the tuple: (tensor([44, 15, 4, 18, 9, 7, 21, 5, 26]), tensor([1]))\n",
    "    '''\n",
    "    \n",
    "    def __init__(self, lang_name_dict, vocabulary):\n",
    "        self.label_names = [x for x in lang_name_dict.keys()]\n",
    "        self.data = []\n",
    "        self.labels = []\n",
    "        self.vocabulary = vocabulary\n",
    "        for y, language in enumerate(self.label_names):\n",
    "            for sample in lang_name_dict[language]:\n",
    "                self.data.append(sample)\n",
    "                self.labels.append(y)\n",
    "        \n",
    "    def __len__(self):\n",
    "        return len(self.data)\n",
    "    \n",
    "    def string2InputVec(self, input_string):\n",
    "        \"\"\"\n",
    "        This method will convert any input string into a vector of long values, according to the vocabulary used by this object. \n",
    "        input_string: the string to convert to a tensor\n",
    "        \"\"\"\n",
    "        T = len(input_string) #How many characters long is the string?\n",
    "        \n",
    "        #Create a new tensor to store the result in\n",
    "        name_vec = torch.zeros((T), dtype=torch.long)\n",
    "        #iterate through the string and place the appropriate values into the tensor\n",
    "        for pos, character in enumerate(input_string):\n",
    "            name_vec[pos] = self.vocabulary[character]\n",
    "            \n",
    "        return name_vec\n",
    "    \n",
    "    def __getitem__(self, idx):\n",
    "        name = self.data[idx]\n",
    "        label = self.labels[idx]\n",
    "        \n",
    "        # Convert the correct class label into a tensor for PyTorch\n",
    "        label_vec = torch.tensor([label], dtype=torch.long)\n",
    "        \n",
    "        return self.string2InputVec(name), label\n"
   ]
  },
  {
   "cell_type": "code",
   "execution_count": 11,
   "id": "225b5e68",
   "metadata": {},
   "outputs": [],
   "source": [
    "dataset = LanguageNameDataset(namge_language_data, alphabet)\n",
    "\n",
    "def collate_batch(batch):\n",
    "    sequences, labels = zip(*batch)\n",
    "    lengths = torch.tensor([len(seq) for seq in sequences])\n",
    "    padded_sequences = pad_sequence(sequences, batch_first=True)\n",
    "    labels = torch.tensor(labels)  \n",
    "    return padded_sequences, lengths, labels\n",
    "\n",
    "train_data, test_data = torch.utils.data.random_split(dataset, (len(dataset)-300, 300))\n",
    "\n",
    "train_loader = DataLoader(train_data, batch_size=32, shuffle=True, collate_fn=collate_batch)\n",
    "test_loader = DataLoader(test_data, batch_size=32, collate_fn=collate_batch)"
   ]
  },
  {
   "cell_type": "code",
   "execution_count": 12,
   "id": "14613ff1",
   "metadata": {},
   "outputs": [
    {
     "name": "stdout",
     "output_type": "stream",
     "text": [
      "torch.Size([5]) torch.Size([5, 2])\n",
      "tensor([[-0.3610, -1.3081],\n",
      "        [-1.3243, -0.6962],\n",
      "        [-1.3243, -0.6962],\n",
      "        [-0.3610, -1.3081],\n",
      "        [-1.3172,  0.2047]])\n"
     ]
    }
   ],
   "source": [
    "# example of embedding\n",
    "# ammae\n",
    "'input sequence with T = 5 items but a vocabulary of only 3 items'\n",
    "with torch.no_grad():\n",
    "    input_sequence = torch.tensor([0, 1, 1, 0, 2], dtype=torch.long)\n",
    "    embd = nn.Embedding(3, 2)\n",
    "    x_seq = embd(input_sequence)\n",
    "    print(input_sequence.shape, x_seq.shape)\n",
    "    print(x_seq)"
   ]
  },
  {
   "cell_type": "code",
   "execution_count": 13,
   "id": "c0ef770c",
   "metadata": {},
   "outputs": [],
   "source": [
    "from torch.nn.utils.rnn import pad_sequence, pack_padded_sequence, pad_packed_sequence\n",
    "\n",
    "class CharLSTM(nn.Module):\n",
    "    def __init__(self, vocab_size, embed_dim, hidden_dim, output_dim, num_layers=1, bidirectional=False):\n",
    "        super(CharLSTM, self).__init__()\n",
    "        self.embedding = nn.Embedding(vocab_size, embed_dim)\n",
    "        self.lstm = nn.LSTM(embed_dim, hidden_dim, num_layers=num_layers, \n",
    "                            batch_first=True, bidirectional=bidirectional)\n",
    "        self.fc = nn.Linear(hidden_dim * (2 if bidirectional else 1), output_dim)\n",
    "\n",
    "    def forward(self, x, lengths):\n",
    "        x = self.embedding(x)\n",
    "        packed = pack_padded_sequence(x, lengths.cpu(), batch_first=True, enforce_sorted=False)\n",
    "        packed_output, (hidden, _) = self.lstm(packed)\n",
    "        \n",
    "        # For bi-directional, concatenate final forward & backward hidden states\n",
    "        if self.lstm.bidirectional:\n",
    "            out = torch.cat((hidden[-2], hidden[-1]), dim=1)\n",
    "        else:\n",
    "            out = hidden[-1]\n",
    "\n",
    "        return self.fc(out)\n",
    "\n",
    "def train(model, dataloader, optimizer, criterion, device):\n",
    "    model.train()\n",
    "    total_loss = 0\n",
    "    for x, lengths, y in dataloader:\n",
    "        x, lengths, y = x.to(device), lengths.to(device), y.to(device)\n",
    "        optimizer.zero_grad()\n",
    "        preds = model(x, lengths)\n",
    "        loss = criterion(preds, y)\n",
    "        loss.backward()\n",
    "        optimizer.step()\n",
    "        total_loss += loss.item()\n",
    "    return total_loss / len(dataloader)\n",
    "\n",
    "\n",
    "def evaluate(model, dataloader, criterion, device):\n",
    "    model.eval()\n",
    "    correct = 0\n",
    "    total = 0\n",
    "    with torch.no_grad():\n",
    "        for x, lengths, y in dataloader:\n",
    "            x, lengths, y = x.to(device), lengths.to(device), y.to(device)\n",
    "            preds = model(x, lengths)\n",
    "            predicted = torch.argmax(preds, dim=1)\n",
    "            correct += (predicted == y).sum().item()\n",
    "            total += y.size(0)\n",
    "    return correct / total\n"
   ]
  },
  {
   "cell_type": "code",
   "execution_count": 24,
   "id": "ee5d6f0f",
   "metadata": {},
   "outputs": [],
   "source": [
    "device = torch.device(\"cuda\" if torch.cuda.is_available() else \"cpu\")\n",
    "\n",
    "vocab_size = len(alphabet)\n",
    "embed_dim = 32\n",
    "hidden_dim = 64\n",
    "output_dim = len(dataset.label_names)\n",
    "epochs = 5\n",
    "# Stacked LSTM (2 layers)\n",
    "model_stacked = CharLSTM(vocab_size, embed_dim, hidden_dim, output_dim, num_layers=2).to(device)\n",
    "opt_stacked = optim.Adam(model_stacked.parameters())\n",
    "criterion = nn.CrossEntropyLoss()\n",
    "\n",
    "# Bi-directional LSTM (1 layer)\n",
    "model_bi = CharLSTM(vocab_size, embed_dim, hidden_dim, output_dim, bidirectional=True).to(device)\n",
    "opt_bi = optim.Adam(model_bi.parameters())"
   ]
  },
  {
   "cell_type": "code",
   "execution_count": 25,
   "id": "3ba60ece",
   "metadata": {},
   "outputs": [
    {
     "name": "stdout",
     "output_type": "stream",
     "text": [
      "Accuracy (Stacked): 0.7800\n",
      "Accuracy (Bi-Directional): 0.8000\n"
     ]
    }
   ],
   "source": [
    "# Train stacked\n",
    "loss_stacked=[]\n",
    "for epoch in range(epochs):\n",
    "    loss_stacked.append(train(model_stacked, train_loader, opt_stacked, criterion, device))\n",
    "acc_stacked = evaluate(model_stacked, test_loader, criterion, device)\n",
    "\n",
    "# Train bi-directional\n",
    "loss_bi=[]\n",
    "for epoch in range(epochs):\n",
    "    loss_bi.append(train(model_bi, train_loader, opt_bi, criterion, device))\n",
    "acc_bi = evaluate(model_bi, test_loader, criterion, device)\n",
    "\n",
    "print(f\"Accuracy (Stacked): {acc_stacked:.4f}\")\n",
    "print(f\"Accuracy (Bi-Directional): {acc_bi:.4f}\")\n"
   ]
  },
  {
   "cell_type": "markdown",
   "id": "4a41a1e7",
   "metadata": {},
   "source": [
    "### 🔍 Summary\n",
    "\n",
    "We compared two LSTM architectures on the character-level language name classification task:\n",
    "- **Stacked LSTM (2 layers)** achieved 78% accuracy\n",
    "- **Bi-directional LSTM (1 layer)** achieved 80% accuracy\n",
    "\n",
    "This suggests that depth helped more than bi-directionality in this task.\n"
   ]
  },
  {
   "cell_type": "code",
   "execution_count": 26,
   "id": "25b6982a",
   "metadata": {},
   "outputs": [
    {
     "data": {
      "image/png": "[encoded data removed]",
      "text/plain": [
       "<Figure size 640x480 with 1 Axes>"
      ]
     },
     "metadata": {},
     "output_type": "display_data"
    }
   ],
   "source": [
    "import matplotlib.pyplot as plt\n",
    "\n",
    "plt.plot(range(epochs), loss_stacked, label='Stacked LSTM')\n",
    "plt.plot(range(epochs), loss_bi, label='Bi-Directional LSTM')\n",
    "plt.xlabel('Epoch')\n",
    "plt.ylabel('Test Accuracy')\n",
    "plt.title('LSTM Model Accuracy Comparison')\n",
    "plt.legend()\n",
    "plt.grid(True)\n",
    "plt.show()\n"
   ]
  },
  {
   "cell_type": "code",
   "execution_count": null,
   "id": "daedcc5a",
   "metadata": {},
   "outputs": [],
   "source": []
  }
 ],
 "metadata": {
  "kernelspec": {
   "display_name": "deep_gpu_env",
   "language": "python",
   "name": "python3"
  },
  "language_info": {
   "codemirror_mode": {
    "name": "ipython",
    "version": 3
   },
   "file_extension": ".py",
   "mimetype": "text/x-python",
   "name": "python",
   "nbconvert_exporter": "python",
   "pygments_lexer": "ipython3",
   "version": "3.9.21"
  }
 },
 "nbformat": 4,
 "nbformat_minor": 5
}
